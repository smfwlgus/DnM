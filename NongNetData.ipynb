{
  "nbformat": 4,
  "nbformat_minor": 0,
  "metadata": {
    "colab": {
      "name": "NongNetData.ipynb",
      "provenance": [],
      "collapsed_sections": [
        "JvsvxUkMVEER",
        "vgYU9RYHVNEY",
        "-Ltt5WB6U736",
        "dREcb3Ndo68d",
        "-vngOjRzo936",
        "gUHzIkgkg4EI"
      ],
      "mount_file_id": "1xMwmbjXvVMr-fA3I2RuPF5_EQMXKHP4A",
      "authorship_tag": "ABX9TyMgoJ4iARl3XobLq+wJbBQC",
      "include_colab_link": true
    },
    "kernelspec": {
      "name": "python3",
      "display_name": "Python 3"
    },
    "language_info": {
      "name": "python"
    }
  },
  "cells": [
    {
      "cell_type": "markdown",
      "metadata": {
        "id": "view-in-github",
        "colab_type": "text"
      },
      "source": [
        "<a href=\"https://colab.research.google.com/github/smfwlgus/DnM/blob/master/NongNetData.ipynb\" target=\"_parent\"><img src=\"https://colab.research.google.com/assets/colab-badge.svg\" alt=\"Open In Colab\"/></a>"
      ]
    },
    {
      "cell_type": "code",
      "source": [
        "#출처: https://dacon.io/competitions/official/235801/overview/description"
      ],
      "metadata": {
        "id": "sZxlc6Zzj8qe"
      },
      "execution_count": null,
      "outputs": []
    },
    {
      "cell_type": "code",
      "metadata": {
        "id": "AfXcWJQMTyZc"
      },
      "source": [
        "import pandas as pd\n",
        "import urllib.request\n",
        "import json\n",
        "import datetime"
      ],
      "execution_count": null,
      "outputs": []
    },
    {
      "cell_type": "markdown",
      "metadata": {
        "id": "JvsvxUkMVEER"
      },
      "source": [
        "# **어제의 농넷 데이터 불러오기** "
      ]
    },
    {
      "cell_type": "code",
      "metadata": {
        "id": "6XHY5yndVUo8"
      },
      "source": [
        "#어제의 농넷 데이터 불러오기\n",
        "#datetime.datetime(2019, 12, 12)...\n",
        "today = datetime.datetime.today()\n",
        "yesterday = (today-datetime.timedelta(1)).strftime('%Y%m%d') #strftime(): 원하는 날짜 형식으로 출력\n",
        "\n",
        "url = 'https://www.nongnet.or.kr/api/whlslDstrQr.do?sdate=' # sdate = 날짜\n",
        "\n",
        "response = urllib.request.urlopen(url+yesterday).read()\n",
        "response = json.loads(response)\n",
        "\n",
        "data = pd.DataFrame(response['data'])"
      ],
      "execution_count": null,
      "outputs": []
    },
    {
      "cell_type": "code",
      "metadata": {
        "colab": {
          "base_uri": "https://localhost:8080/",
          "height": 419
        },
        "id": "kaQgZUm5V0Hj",
        "outputId": "c6fa1518-bac2-40db-b13a-4e9f40c8a9c4"
      },
      "source": [
        "data"
      ],
      "execution_count": null,
      "outputs": [
        {
          "output_type": "execute_result",
          "data": {
            "text/html": [
              "<div>\n",
              "<style scoped>\n",
              "    .dataframe tbody tr th:only-of-type {\n",
              "        vertical-align: middle;\n",
              "    }\n",
              "\n",
              "    .dataframe tbody tr th {\n",
              "        vertical-align: top;\n",
              "    }\n",
              "\n",
              "    .dataframe thead th {\n",
              "        text-align: right;\n",
              "    }\n",
              "</style>\n",
              "<table border=\"1\" class=\"dataframe\">\n",
              "  <thead>\n",
              "    <tr style=\"text-align: right;\">\n",
              "      <th></th>\n",
              "      <th>PUM_NM</th>\n",
              "      <th>LV_NM</th>\n",
              "      <th>TOT_AMT</th>\n",
              "      <th>SAN_NM</th>\n",
              "      <th>SALEDATE</th>\n",
              "      <th>CMP_NM</th>\n",
              "      <th>DAN_NM</th>\n",
              "      <th>WHSAL_NM</th>\n",
              "      <th>SIZE_NM</th>\n",
              "      <th>COST</th>\n",
              "      <th>POJ_NM</th>\n",
              "      <th>TOT_QTY</th>\n",
              "      <th>QTY</th>\n",
              "      <th>KIND_NM</th>\n",
              "      <th>DANQ</th>\n",
              "    </tr>\n",
              "  </thead>\n",
              "  <tbody>\n",
              "    <tr>\n",
              "      <th>0</th>\n",
              "      <td>포도</td>\n",
              "      <td>특</td>\n",
              "      <td>351000</td>\n",
              "      <td>경상북도 김천시</td>\n",
              "      <td>20211011</td>\n",
              "      <td>덕풍청과</td>\n",
              "      <td>kg</td>\n",
              "      <td>인천구월도매</td>\n",
              "      <td>.</td>\n",
              "      <td>13000</td>\n",
              "      <td>상자</td>\n",
              "      <td>54.0</td>\n",
              "      <td>27.0</td>\n",
              "      <td>샤인마스캇</td>\n",
              "      <td>2.0</td>\n",
              "    </tr>\n",
              "    <tr>\n",
              "      <th>1</th>\n",
              "      <td>포도</td>\n",
              "      <td>특</td>\n",
              "      <td>1100000</td>\n",
              "      <td>경상북도 김천시</td>\n",
              "      <td>20211011</td>\n",
              "      <td>덕풍청과</td>\n",
              "      <td>kg</td>\n",
              "      <td>인천구월도매</td>\n",
              "      <td>.</td>\n",
              "      <td>11000</td>\n",
              "      <td>상자</td>\n",
              "      <td>200.0</td>\n",
              "      <td>100.0</td>\n",
              "      <td>샤인마스캇</td>\n",
              "      <td>2.0</td>\n",
              "    </tr>\n",
              "    <tr>\n",
              "      <th>2</th>\n",
              "      <td>포도</td>\n",
              "      <td>특</td>\n",
              "      <td>225000</td>\n",
              "      <td>경상북도 김천시</td>\n",
              "      <td>20211011</td>\n",
              "      <td>덕풍청과</td>\n",
              "      <td>kg</td>\n",
              "      <td>인천구월도매</td>\n",
              "      <td>.</td>\n",
              "      <td>9000</td>\n",
              "      <td>상자</td>\n",
              "      <td>50.0</td>\n",
              "      <td>25.0</td>\n",
              "      <td>샤인마스캇</td>\n",
              "      <td>2.0</td>\n",
              "    </tr>\n",
              "    <tr>\n",
              "      <th>3</th>\n",
              "      <td>포도</td>\n",
              "      <td>특</td>\n",
              "      <td>440000</td>\n",
              "      <td>경상북도 경산시</td>\n",
              "      <td>20211011</td>\n",
              "      <td>덕풍청과</td>\n",
              "      <td>kg</td>\n",
              "      <td>인천구월도매</td>\n",
              "      <td>.</td>\n",
              "      <td>11000</td>\n",
              "      <td>상자</td>\n",
              "      <td>120.0</td>\n",
              "      <td>40.0</td>\n",
              "      <td>마스캇베리에이</td>\n",
              "      <td>3.0</td>\n",
              "    </tr>\n",
              "    <tr>\n",
              "      <th>4</th>\n",
              "      <td>포도</td>\n",
              "      <td>특</td>\n",
              "      <td>230000</td>\n",
              "      <td>경상북도 경산시</td>\n",
              "      <td>20211011</td>\n",
              "      <td>덕풍청과</td>\n",
              "      <td>kg</td>\n",
              "      <td>인천구월도매</td>\n",
              "      <td>.</td>\n",
              "      <td>11500</td>\n",
              "      <td>상자</td>\n",
              "      <td>60.0</td>\n",
              "      <td>20.0</td>\n",
              "      <td>마스캇베리에이</td>\n",
              "      <td>3.0</td>\n",
              "    </tr>\n",
              "    <tr>\n",
              "      <th>...</th>\n",
              "      <td>...</td>\n",
              "      <td>...</td>\n",
              "      <td>...</td>\n",
              "      <td>...</td>\n",
              "      <td>...</td>\n",
              "      <td>...</td>\n",
              "      <td>...</td>\n",
              "      <td>...</td>\n",
              "      <td>...</td>\n",
              "      <td>...</td>\n",
              "      <td>...</td>\n",
              "      <td>...</td>\n",
              "      <td>...</td>\n",
              "      <td>...</td>\n",
              "      <td>...</td>\n",
              "    </tr>\n",
              "    <tr>\n",
              "      <th>122346</th>\n",
              "      <td>바나나</td>\n",
              "      <td>.</td>\n",
              "      <td>170000</td>\n",
              "      <td>None</td>\n",
              "      <td>20211011</td>\n",
              "      <td>강서청과</td>\n",
              "      <td>kg</td>\n",
              "      <td>서울강서도매</td>\n",
              "      <td>1개(내_뿌리)</td>\n",
              "      <td>17000</td>\n",
              "      <td>.</td>\n",
              "      <td>130.0</td>\n",
              "      <td>10.0</td>\n",
              "      <td>바나나(수입)</td>\n",
              "      <td>13.0</td>\n",
              "    </tr>\n",
              "    <tr>\n",
              "      <th>122347</th>\n",
              "      <td>바나나</td>\n",
              "      <td>.</td>\n",
              "      <td>170000</td>\n",
              "      <td>None</td>\n",
              "      <td>20211011</td>\n",
              "      <td>강서청과</td>\n",
              "      <td>kg</td>\n",
              "      <td>서울강서도매</td>\n",
              "      <td>1개(내_뿌리)</td>\n",
              "      <td>17000</td>\n",
              "      <td>.</td>\n",
              "      <td>130.0</td>\n",
              "      <td>10.0</td>\n",
              "      <td>바나나(수입)</td>\n",
              "      <td>13.0</td>\n",
              "    </tr>\n",
              "    <tr>\n",
              "      <th>122348</th>\n",
              "      <td>바나나</td>\n",
              "      <td>.</td>\n",
              "      <td>170000</td>\n",
              "      <td>None</td>\n",
              "      <td>20211011</td>\n",
              "      <td>강서청과</td>\n",
              "      <td>kg</td>\n",
              "      <td>서울강서도매</td>\n",
              "      <td>1개(내_뿌리)</td>\n",
              "      <td>17000</td>\n",
              "      <td>.</td>\n",
              "      <td>130.0</td>\n",
              "      <td>10.0</td>\n",
              "      <td>바나나(수입)</td>\n",
              "      <td>13.0</td>\n",
              "    </tr>\n",
              "    <tr>\n",
              "      <th>122349</th>\n",
              "      <td>바나나</td>\n",
              "      <td>.</td>\n",
              "      <td>85000</td>\n",
              "      <td>None</td>\n",
              "      <td>20211011</td>\n",
              "      <td>강서청과</td>\n",
              "      <td>kg</td>\n",
              "      <td>서울강서도매</td>\n",
              "      <td>1개(내_뿌리)</td>\n",
              "      <td>17000</td>\n",
              "      <td>.</td>\n",
              "      <td>65.0</td>\n",
              "      <td>5.0</td>\n",
              "      <td>바나나(수입)</td>\n",
              "      <td>13.0</td>\n",
              "    </tr>\n",
              "    <tr>\n",
              "      <th>122350</th>\n",
              "      <td>콜라비(순무양배추)</td>\n",
              "      <td>.</td>\n",
              "      <td>-15000</td>\n",
              "      <td>None</td>\n",
              "      <td>20211011</td>\n",
              "      <td>강서청과</td>\n",
              "      <td>kg</td>\n",
              "      <td>서울강서도매</td>\n",
              "      <td>1개(내_뿌리)</td>\n",
              "      <td>1000</td>\n",
              "      <td>상자</td>\n",
              "      <td>-150.0</td>\n",
              "      <td>-15.0</td>\n",
              "      <td>콜라비(일반)</td>\n",
              "      <td>10.0</td>\n",
              "    </tr>\n",
              "  </tbody>\n",
              "</table>\n",
              "<p>122351 rows × 15 columns</p>\n",
              "</div>"
            ],
            "text/plain": [
              "            PUM_NM LV_NM  TOT_AMT    SAN_NM  ... TOT_QTY    QTY  KIND_NM  DANQ\n",
              "0               포도     특   351000  경상북도 김천시  ...    54.0   27.0    샤인마스캇   2.0\n",
              "1               포도     특  1100000  경상북도 김천시  ...   200.0  100.0    샤인마스캇   2.0\n",
              "2               포도     특   225000  경상북도 김천시  ...    50.0   25.0    샤인마스캇   2.0\n",
              "3               포도     특   440000  경상북도 경산시  ...   120.0   40.0  마스캇베리에이   3.0\n",
              "4               포도     특   230000  경상북도 경산시  ...    60.0   20.0  마스캇베리에이   3.0\n",
              "...            ...   ...      ...       ...  ...     ...    ...      ...   ...\n",
              "122346         바나나     .   170000      None  ...   130.0   10.0  바나나(수입)  13.0\n",
              "122347         바나나     .   170000      None  ...   130.0   10.0  바나나(수입)  13.0\n",
              "122348         바나나     .   170000      None  ...   130.0   10.0  바나나(수입)  13.0\n",
              "122349         바나나     .    85000      None  ...    65.0    5.0  바나나(수입)  13.0\n",
              "122350  콜라비(순무양배추)     .   -15000      None  ...  -150.0  -15.0  콜라비(일반)  10.0\n",
              "\n",
              "[122351 rows x 15 columns]"
            ]
          },
          "metadata": {},
          "execution_count": 3
        }
      ]
    },
    {
      "cell_type": "code",
      "metadata": {
        "id": "4AUhGHYSV45f"
      },
      "source": [
        "# data.to_csv('ddd.csv')"
      ],
      "execution_count": null,
      "outputs": []
    },
    {
      "cell_type": "markdown",
      "metadata": {
        "id": "vgYU9RYHVNEY"
      },
      "source": [
        "# **일자(하루) 데이터 가져오기**"
      ]
    },
    {
      "cell_type": "code",
      "metadata": {
        "id": "eBVA_EFqamAS"
      },
      "source": [
        "#일자 하루\n",
        "nalja = datetime.datetime(2021, 8, 24)\n",
        "august = nalja.strftime('%Y%m%d') #strftime(): 원하는 날짜 형식으로 출력\n",
        "\n",
        "url = 'https://www.nongnet.or.kr/api/whlslDstrQr.do?sdate=' # sdate = 날짜\n",
        "\n",
        "response = urllib.request.urlopen(url+august).read()\n",
        "response = json.loads(response)\n",
        "\n",
        "data = pd.DataFrame(response['data'])"
      ],
      "execution_count": null,
      "outputs": []
    },
    {
      "cell_type": "code",
      "metadata": {
        "id": "XK8RW9IAkBuw"
      },
      "source": [
        "nalja = datetime.datetime(2021, 8, 24)\n",
        "abc = nalja.strftime('%Y%m%d') #strftime(): 원하는 날짜 형식으로 출력\n",
        "\n",
        "url = 'https://www.nongnet.or.kr/api/whlslDstrQr.do?sdate=' # sdate = 날짜\n",
        "\n",
        "response = urllib.request.urlopen(url+abc).read()\n",
        "response = json.loads(response)\n",
        "\n",
        "data = pd.DataFrame(response['data'])\n",
        "\n",
        "nalja = datetime.datetime(2021, 8, 25)\n",
        "august = nalja.strftime('%Y%m%d') #strftime(): 원하는 날짜 형식으로 출력\n",
        "\n",
        "url = 'https://www.nongnet.or.kr/api/whlslDstrQr.do?sdate=' # sdate = 날짜\n",
        "\n",
        "response = urllib.request.urlopen(url+august).read()\n",
        "response = json.loads(response)\n",
        "\n",
        "df1 = data.append(response['data'])"
      ],
      "execution_count": null,
      "outputs": []
    },
    {
      "cell_type": "code",
      "metadata": {
        "id": "6X1lnMNMbvJJ"
      },
      "source": [
        "# df1.to_csv('dskldj.csv', index=False)"
      ],
      "execution_count": null,
      "outputs": []
    },
    {
      "cell_type": "markdown",
      "metadata": {
        "id": "_Tu1FQo6pDpi"
      },
      "source": [
        "# 1~11월"
      ]
    },
    {
      "cell_type": "code",
      "metadata": {
        "id": "I569Lf3opGYI"
      },
      "source": [
        "#1~7월 반복문 실험\n",
        "\n",
        "for i in range(1, 3):\n",
        "  nalja = datetime.datetime(2021, 12, i)\n",
        "  nalja2 = nalja.strftime('%Y%m%d')\n",
        "\n",
        "  #nalja3 = nalja.strftime('%Y%m')\n",
        "\n",
        "  url = 'https://www.nongnet.or.kr/api/whlslDstrQr.do?sdate=' # sdate = 날짜\n",
        "  \n",
        "  response = urllib.request.urlopen(url+nalja2).read()\n",
        "  response = json.loads(response)\n",
        "  \n",
        "  globals() ['df{}'.format(i)] = pd.DataFrame(response['data'])"
      ],
      "execution_count": null,
      "outputs": []
    },
    {
      "cell_type": "code",
      "metadata": {
        "id": "Yaq3R9_FpKEH"
      },
      "source": [
        "august = pd.concat([df1, df2, df3, df4, df5, df6, df7, df8, df9, df10, \n",
        "                    df11, df12, df13, df14, df15, df16, df17, df18, df19, df20,\n",
        "                    df21, df22, df23, df24, df25, df26, df27, df28, df29, df30])"
      ],
      "execution_count": null,
      "outputs": []
    },
    {
      "cell_type": "code",
      "metadata": {
        "id": "A23_pYuFpLie"
      },
      "source": [
        "august.to_csv('/content/drive/MyDrive/Capstone/Data/AT_TSALET_ALL_202112.csv', index=False)"
      ],
      "execution_count": null,
      "outputs": []
    }
  ]
}