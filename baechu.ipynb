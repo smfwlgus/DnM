{
  "nbformat": 4,
  "nbformat_minor": 0,
  "metadata": {
    "colab": {
      "name": "baechu.ipynb",
      "provenance": [],
      "collapsed_sections": [],
      "mount_file_id": "1g4jbOO_7z0BCMvJd-DEhxT8G-c94mxoC",
      "authorship_tag": "ABX9TyM2h1TS50oMupjg8IT8nmsk",
      "include_colab_link": true
    },
    "kernelspec": {
      "name": "python3",
      "display_name": "Python 3"
    },
    "language_info": {
      "name": "python"
    }
  },
  "cells": [
    {
      "cell_type": "markdown",
      "metadata": {
        "id": "view-in-github",
        "colab_type": "text"
      },
      "source": [
        "<a href=\"https://colab.research.google.com/github/smfwlgus/DnM/blob/master/baechu.ipynb\" target=\"_parent\"><img src=\"https://colab.research.google.com/assets/colab-badge.svg\" alt=\"Open In Colab\"/></a>"
      ]
    },
    {
      "cell_type": "markdown",
      "metadata": {
        "id": "VGhAH5JQXcl5"
      },
      "source": [
        "# **Library Import & Settings**"
      ]
    },
    {
      "cell_type": "code",
      "metadata": {
        "id": "9L1IqLAdSdbh"
      },
      "source": [
        "import numpy as np \n",
        "import pandas as pd\n",
        "from tqdm import tqdm\n",
        "\n",
        "import warnings\n",
        "\n",
        "import seaborn as sns\n",
        "import matplotlib.pyplot as plt\n",
        "\n",
        "import lightgbm\n",
        "from lightgbm import LGBMRegressor"
      ],
      "execution_count": 1,
      "outputs": []
    },
    {
      "cell_type": "code",
      "metadata": {
        "id": "gNXsgc7Yy4X_"
      },
      "source": [
        "# 경고 끄기\n",
        "pd.set_option('mode.chained_assignment', None)\n",
        "warnings.filterwarnings(action='ignore')  #관련없는 문구 알리지 않음"
      ],
      "execution_count": 2,
      "outputs": []
    },
    {
      "cell_type": "code",
      "metadata": {
        "id": "wmlzglaLy7CE"
      },
      "source": [
        "train = pd.read_csv('/content/drive/MyDrive/Capstone/Data/ten_pum_train_onebon.csv')\n",
        "train = train[:1827] #2016-01-01 ~ 2020-12-31까지의 10개 품목 농산물 데이터 가져오기"
      ],
      "execution_count": 3,
      "outputs": []
    },
    {
      "cell_type": "code",
      "metadata": {
        "colab": {
          "base_uri": "https://localhost:8080/",
          "height": 206
        },
        "id": "IHhFIzFwR6F7",
        "outputId": "aaba5e5b-f8ec-4ad3-c34c-cc27a4008725"
      },
      "source": [
        "weather = pd.read_csv('/content/drive/MyDrive/Capstone/주산지, 날씨 코드/weather.csv')\n",
        "weather.head() #2015~2020까지 농산물의 날씨 데이터"
      ],
      "execution_count": 4,
      "outputs": [
        {
          "output_type": "execute_result",
          "data": {
            "text/html": [
              "<div>\n",
              "<style scoped>\n",
              "    .dataframe tbody tr th:only-of-type {\n",
              "        vertical-align: middle;\n",
              "    }\n",
              "\n",
              "    .dataframe tbody tr th {\n",
              "        vertical-align: top;\n",
              "    }\n",
              "\n",
              "    .dataframe thead th {\n",
              "        text-align: right;\n",
              "    }\n",
              "</style>\n",
              "<table border=\"1\" class=\"dataframe\">\n",
              "  <thead>\n",
              "    <tr style=\"text-align: right;\">\n",
              "      <th></th>\n",
              "      <th>no</th>\n",
              "      <th>stn_Code</th>\n",
              "      <th>stn_Name</th>\n",
              "      <th>date</th>\n",
              "      <th>temp</th>\n",
              "      <th>max_Temp</th>\n",
              "      <th>min_Temp</th>\n",
              "      <th>hum</th>\n",
              "      <th>widdir</th>\n",
              "      <th>wind</th>\n",
              "      <th>rain</th>\n",
              "      <th>sun_Time</th>\n",
              "      <th>sun_Qy</th>\n",
              "      <th>condens_Time</th>\n",
              "      <th>gr_Temp</th>\n",
              "      <th>soil_Temp</th>\n",
              "      <th>soil_Wt</th>\n",
              "    </tr>\n",
              "  </thead>\n",
              "  <tbody>\n",
              "    <tr>\n",
              "      <th>0</th>\n",
              "      <td>1</td>\n",
              "      <td>536824B002</td>\n",
              "      <td>해남군 옥천면</td>\n",
              "      <td>2015-01-01</td>\n",
              "      <td>-1.3</td>\n",
              "      <td>0.6</td>\n",
              "      <td>-2.9</td>\n",
              "      <td>80.0</td>\n",
              "      <td>295.2</td>\n",
              "      <td>2.3</td>\n",
              "      <td>0.8</td>\n",
              "      <td>NaN</td>\n",
              "      <td>7.8</td>\n",
              "      <td>NaN</td>\n",
              "      <td>NaN</td>\n",
              "      <td>3.36</td>\n",
              "      <td>25.9</td>\n",
              "    </tr>\n",
              "    <tr>\n",
              "      <th>1</th>\n",
              "      <td>1</td>\n",
              "      <td>330846A001</td>\n",
              "      <td>천안시 목천읍</td>\n",
              "      <td>2015-01-01</td>\n",
              "      <td>-6.2</td>\n",
              "      <td>-3.8</td>\n",
              "      <td>-8.3</td>\n",
              "      <td>NaN</td>\n",
              "      <td>NaN</td>\n",
              "      <td>0.0</td>\n",
              "      <td>0.0</td>\n",
              "      <td>NaN</td>\n",
              "      <td>NaN</td>\n",
              "      <td>1429.0</td>\n",
              "      <td>NaN</td>\n",
              "      <td>NaN</td>\n",
              "      <td>NaN</td>\n",
              "    </tr>\n",
              "    <tr>\n",
              "      <th>2</th>\n",
              "      <td>1</td>\n",
              "      <td>627911A001</td>\n",
              "      <td>밀양시 상남면</td>\n",
              "      <td>2015-01-01</td>\n",
              "      <td>-3.2</td>\n",
              "      <td>0.2</td>\n",
              "      <td>-7.2</td>\n",
              "      <td>40.1</td>\n",
              "      <td>282.7</td>\n",
              "      <td>2.9</td>\n",
              "      <td>0.0</td>\n",
              "      <td>516.0</td>\n",
              "      <td>11.0</td>\n",
              "      <td>0.0</td>\n",
              "      <td>NaN</td>\n",
              "      <td>2.20</td>\n",
              "      <td>28.5</td>\n",
              "    </tr>\n",
              "    <tr>\n",
              "      <th>3</th>\n",
              "      <td>1</td>\n",
              "      <td>539823A001</td>\n",
              "      <td>진도군 군내면</td>\n",
              "      <td>2015-01-01</td>\n",
              "      <td>-0.8</td>\n",
              "      <td>1.6</td>\n",
              "      <td>-2.8</td>\n",
              "      <td>79.2</td>\n",
              "      <td>257.0</td>\n",
              "      <td>3.5</td>\n",
              "      <td>1.5</td>\n",
              "      <td>217.0</td>\n",
              "      <td>8.2</td>\n",
              "      <td>652.0</td>\n",
              "      <td>NaN</td>\n",
              "      <td>5.02</td>\n",
              "      <td>30.6</td>\n",
              "    </tr>\n",
              "    <tr>\n",
              "      <th>4</th>\n",
              "      <td>1</td>\n",
              "      <td>590823A001</td>\n",
              "      <td>남원시 이백면</td>\n",
              "      <td>2015-01-01</td>\n",
              "      <td>-4.1</td>\n",
              "      <td>-1.3</td>\n",
              "      <td>-6.0</td>\n",
              "      <td>60.7</td>\n",
              "      <td>286.7</td>\n",
              "      <td>2.1</td>\n",
              "      <td>0.5</td>\n",
              "      <td>310.0</td>\n",
              "      <td>7.7</td>\n",
              "      <td>0.0</td>\n",
              "      <td>-4.3</td>\n",
              "      <td>2.16</td>\n",
              "      <td>20.3</td>\n",
              "    </tr>\n",
              "  </tbody>\n",
              "</table>\n",
              "</div>"
            ],
            "text/plain": [
              "   no    stn_Code stn_Name  ... gr_Temp  soil_Temp  soil_Wt\n",
              "0   1  536824B002  해남군 옥천면  ...     NaN       3.36     25.9\n",
              "1   1  330846A001  천안시 목천읍  ...     NaN        NaN      NaN\n",
              "2   1  627911A001  밀양시 상남면  ...     NaN       2.20     28.5\n",
              "3   1  539823A001  진도군 군내면  ...     NaN       5.02     30.6\n",
              "4   1  590823A001  남원시 이백면  ...    -4.3       2.16     20.3\n",
              "\n",
              "[5 rows x 17 columns]"
            ]
          },
          "metadata": {},
          "execution_count": 4
        }
      ]
    },
    {
      "cell_type": "markdown",
      "metadata": {
        "id": "q2ossZTOJvok"
      },
      "source": [
        "# **전처리 - 이상치, 결측치**"
      ]
    },
    {
      "cell_type": "code",
      "metadata": {
        "colab": {
          "base_uri": "https://localhost:8080/"
        },
        "id": "N5zy-6HEKFf8",
        "outputId": "8ec63593-3d1c-4262-9f43-57e35d00e88c"
      },
      "source": [
        "weather.info()"
      ],
      "execution_count": null,
      "outputs": [
        {
          "output_type": "stream",
          "name": "stdout",
          "text": [
            "<class 'pandas.core.frame.DataFrame'>\n",
            "RangeIndex: 34263 entries, 0 to 34262\n",
            "Data columns (total 17 columns):\n",
            " #   Column        Non-Null Count  Dtype  \n",
            "---  ------        --------------  -----  \n",
            " 0   no            34263 non-null  int64  \n",
            " 1   stn_Code      34263 non-null  object \n",
            " 2   stn_Name      34263 non-null  object \n",
            " 3   date          34263 non-null  object \n",
            " 4   temp          34258 non-null  float64\n",
            " 5   max_Temp      34258 non-null  float64\n",
            " 6   min_Temp      34227 non-null  float64\n",
            " 7   hum           33518 non-null  float64\n",
            " 8   widdir        30691 non-null  float64\n",
            " 9   wind          34263 non-null  float64\n",
            " 10  rain          34255 non-null  float64\n",
            " 11  sun_Time      23537 non-null  float64\n",
            " 12  sun_Qy        33610 non-null  float64\n",
            " 13  condens_Time  28002 non-null  float64\n",
            " 14  gr_Temp       18895 non-null  float64\n",
            " 15  soil_Temp     29585 non-null  float64\n",
            " 16  soil_Wt       17250 non-null  float64\n",
            "dtypes: float64(13), int64(1), object(3)\n",
            "memory usage: 4.4+ MB\n"
          ]
        }
      ]
    },
    {
      "cell_type": "code",
      "metadata": {
        "colab": {
          "base_uri": "https://localhost:8080/",
          "height": 337
        },
        "id": "Vs_jDFUVNp6P",
        "outputId": "8ab4a035-6bcf-4743-dc4f-e63d8de2a961"
      },
      "source": [
        "plt.figure(figsize=(5, 5))\n",
        "sns.boxplot(data=weather['soil_Wt'])"
      ],
      "execution_count": null,
      "outputs": [
        {
          "output_type": "execute_result",
          "data": {
            "text/plain": [
              "<matplotlib.axes._subplots.AxesSubplot at 0x7f894ff709d0>"
            ]
          },
          "metadata": {},
          "execution_count": 12
        },
        {
          "output_type": "display_data",
          "data": {
            "image/png": "[encoded data removed]",
            "text/plain": [
              "<Figure size 360x360 with 1 Axes>"
            ]
          },
          "metadata": {
            "needs_background": "light"
          }
        }
      ]
    },
    {
      "cell_type": "code",
      "metadata": {
        "id": "TjcMIKaEeKYf"
      },
      "source": [
        "weather = weather.drop(['sun_Time', 'condens_Time', 'gr_Temp', 'soil_Wt'] , 1)"
      ],
      "execution_count": null,
      "outputs": []
    },
    {
      "cell_type": "code",
      "metadata": {
        "id": "UpLdnSyXLS1b"
      },
      "source": [
        "weather.fillna(0, inplace=True)"
      ],
      "execution_count": null,
      "outputs": []
    },
    {
      "cell_type": "code",
      "metadata": {
        "colab": {
          "base_uri": "https://localhost:8080/"
        },
        "id": "uNdFIOY-J8QQ",
        "outputId": "21e925b9-4ae4-40a2-eb5e-f101a461ddaa"
      },
      "source": [
        "weather.isnull().sum()"
      ],
      "execution_count": null,
      "outputs": [
        {
          "output_type": "execute_result",
          "data": {
            "text/plain": [
              "no           0\n",
              "stn_Code     0\n",
              "stn_Name     0\n",
              "date         0\n",
              "temp         0\n",
              "max_Temp     0\n",
              "min_Temp     0\n",
              "hum          0\n",
              "widdir       0\n",
              "wind         0\n",
              "rain         0\n",
              "sun_Qy       0\n",
              "soil_Temp    0\n",
              "dtype: int64"
            ]
          },
          "metadata": {},
          "execution_count": 16
        }
      ]
    },
    {
      "cell_type": "markdown",
      "metadata": {
        "id": "wy_CW3V3b6jT"
      },
      "source": [
        "# **weather**"
      ]
    },
    {
      "cell_type": "code",
      "metadata": {
        "id": "nVOvNIJMSFou"
      },
      "source": [
        "#10개 품목의 주산지\n",
        "joosan_dict = {\n",
        "              '깻잎': '경상남도 밀양시',\n",
        "              '대파': '전라남도 신안군',\n",
        "              '마늘': '경상남도 창녕군',\n",
        "              '무': '제주도 제주시',\n",
        "              '미나리': '경기도 시흥시',\n",
        "              '배추': '전라남도 해남군',\n",
        "              '시금치': '경기도 포천시',\n",
        "              '양파': '전라남도 무안군',\n",
        "              '토마토': '부산 강서구',\n",
        "              '파프리카': '강원도 철원군'         \n",
        "}"
      ],
      "execution_count": null,
      "outputs": []
    },
    {
      "cell_type": "code",
      "metadata": {
        "id": "kW4ojWdHSH4G"
      },
      "source": [
        "#10개 품목의 주산지 관측지점 코드\n",
        "code_dict = { \n",
        "    '강원도 철원군': '269811A001', #파프리카\n",
        "    '경기도 시흥시': '429843A001', #미나리\n",
        "    '경기도 포천시': '487915A001', #시금치\n",
        "    '경상남도 밀양시': '627911A001', #깻잎\n",
        "    '경상남도 창녕군': '635821A001', #마늘\n",
        "    '부산 강서구': '618803A001', #토마토\n",
        "    '전라남도 무안군': '534833E001', #양파\n",
        "    '전라남도 신안군': '535812A001', #대파\n",
        "    '전라남도 해남군': '536824B002', #배추\n",
        "    '제주도 제주시': '063057B009', #무\n",
        "}"
      ],
      "execution_count": null,
      "outputs": []
    },
    {
      "cell_type": "code",
      "metadata": {
        "id": "DeLZMP1QppgC"
      },
      "source": [
        "first_date = datetime.datetime.strptime('2020-09-28', '%Y-%m-%d') - datetime.timedelta(360) #기준 날짜에서 360일 전 날짜까지 \n",
        "date_list = [] \n",
        "for delta in range(360) : #0~360\n",
        "    date = first_date + datetime.timedelta(days = delta)\n",
        "    date = datetime.datetime.strftime(date, '%Y-%m-%d') \n",
        "    date_list.append(date)\n",
        "date_df = pd.DataFrame({'date' : date_list}) #date가 담긴 df 생성\n",
        "\n",
        "train = pd.read_csv('/content/drive/MyDrive/Capstone/Data/ten_pum_train_onebon.csv')\n",
        "train = train[:1827] #2016 1 ~ 2020 12\n",
        "train2 = pd.concat([date_df, train], sort = False).reset_index(drop=True) #1년치, 전체날짜(train)"
      ],
      "execution_count": null,
      "outputs": []
    },
    {
      "cell_type": "code",
      "metadata": {
        "id": "_cvDo0pIikLY"
      },
      "source": [
        "pum = '배추'\n",
        "\n",
        "temp_df = train2[['date',f'{pum}_거래량(kg)', f'{pum}_가격(원/kg)']]\n",
        "    \n",
        "# 품종과 주산지 날씨 mapping\n",
        "joosanji = joosan_dict[pum]\n",
        "joosan_code = code_dict[joosanji]\n",
        "joosan_weather = allweather[allweather['stn_Code']==joosan_code].reset_index(drop=True)\n",
        "end_index = np.where(joosan_weather['date']=='2020-12-31')[0][0] \n",
        "joosan_weather = joosan_weather.iloc[:end_index+1] #2020-12-31 까지만 자르기\n",
        "temp_df = temp_df.merge(joosan_weather, on='date', how='left')\n",
        "\n",
        "# weather feature 추가\n",
        "col_list = temp_df.columns[6:]\n",
        "for num in range(1,13) :\n",
        "  for index in range(360, len(temp_df)) :\n",
        "    temp_quater_df = temp_df.iloc[index-30*num : index-30*(num-1)] \n",
        "    quater_temp = temp_quater_df['temp']\n",
        "\n",
        "    temp_df.loc[index, f'rain_sum_{num}q'] = temp_quater_df['rain'].sum() # 누적 강수량\n",
        "    temp_df.loc[index, f'heavy_rain_count_{num}q'] = np.where(temp_quater_df['rain']>90, 1, 0).sum() # 평균 강수량 90mm 이상 누적 일수\n",
        "    temp_df.loc[index, f'low_temp_count_{num}q'] = np.where(quater_temp<5, 1, 0).sum() # 일평균 기온 5도 이하 누적 일수\n",
        "    temp_df.loc[index, f'middle_temp_count_{num}q'] = np.where(((quater_temp>15)&(quater_temp<22)), 1, 0).sum() # 일평균 기온 15~22도 누적 일수\n",
        "    temp_df.loc[index, f'high_temp_count_{num}q'] = np.where(quater_temp>32, 1, 0).sum() # 일평균 기온 32도 이상 누적 일수\n",
        "    for col in col_list :\n",
        "                temp_df.loc[index, f'avg_{col}_{num}q'] = temp_quater_df[col].mean() # 각 기상 요소의 평균값\n",
        "    \n",
        "# 예측 대상(1w,2w,4w) 추가\n",
        "for week in ['1_week','2_week','4_week'] :\n",
        "  temp_df[week] = 0\n",
        "  n_week = int(week[0])\n",
        "  for index in range(len(temp_df)) :\n",
        "    try : temp_df[week][index] = temp_df[f'{pum}_가격(원/kg)'][index+7*n_week]\n",
        "    except : continue\n",
        "    \n",
        "drop_col_list = temp_df.columns[3:19]\n",
        "temp_df = temp_df.drop(drop_col_list, 1).reset_index(drop=True)\n",
        "temp_df = temp_df.iloc[360:].reset_index(drop=True)\n",
        "temp_df = temp_df.drop(['date',f'{pum}_거래량(kg)',f'{pum}_가격(원/kg)'], axis=1)\n",
        "    \n",
        "temp_df"
      ],
      "execution_count": null,
      "outputs": []
    },
    {
      "cell_type": "markdown",
      "metadata": {
        "id": "ZvfFFPCRfaGl"
      },
      "source": [
        "# **학습**"
      ]
    },
    {
      "cell_type": "code",
      "metadata": {
        "id": "_vVxLxRczMXX"
      },
      "source": [
        "#nmae사용 \n",
        "def nmae(week_answer, week_submission):\n",
        "    answer = week_answer.to_numpy()\n",
        "    target_idx = np.where(answer!=0)\n",
        "    true = answer[target_idx]\n",
        "    pred = week_submission[target_idx]\n",
        "    score = np.mean(np.abs(true-pred)/true)\n",
        "    \n",
        "    return score\n",
        "\n",
        "#1,2,4주의 평균으로 예측\n",
        "def at_nmae(pred, dataset):\n",
        "    y_true = dataset.get_label()\n",
        "    week_1_answer = y_true[0::3]\n",
        "    week_2_answer = y_true[1::3]\n",
        "    week_4_answer = y_true[2::3]\n",
        "    \n",
        "    week_1_submission = pred[0::3]\n",
        "    week_2_submission = pred[1::3]\n",
        "    week_4_submission = pred[2::3]\n",
        "    \n",
        "    score1 = nmae(week_1_answer, week_1_submission)\n",
        "    score2 = nmae(week_2_answer, week_2_submission)\n",
        "    score4 = nmae(week_4_answer, week_4_submission)\n",
        "    \n",
        "    score = (score1+score2+score4)/3\n",
        "    \n",
        "    return 'score', score, False"
      ],
      "execution_count": null,
      "outputs": []
    },
    {
      "cell_type": "code",
      "metadata": {
        "id": "0C2UaAwhzN1W"
      },
      "source": [
        "def model_train(x_train, y_train, x_valid, y_valid) :\n",
        "    params = {'learning_rate': 0.01, #학습률\n",
        "              'max_depth': 6, #트리의 최대 깊이\n",
        "              'boosting': 'gbdt', #실행하고자 하는 알고리즘 타입. 현재 디폴트 값인 gradient boosting decision tree\n",
        "              'objective': 'regression',  #모델 어플리케이션. 현재 regression(회귀) --------------------------------------> 분류로도 해서 성능 비교하기*******\n",
        "              'is_training_metric': True, \n",
        "              'num_leaves': 100, #전체 트리의 leave 수\n",
        "              'feature_fraction': 0.8, #Light GBM이 트리를 만들 때 매번 각 iteration 반복에서 파라미터 80% 랜덤 선택\n",
        "              'bagging_fraction': 0.8, #배깅, 매번 iteraion 돌 때 사용되는 데이터 80% 랜덤 선택\n",
        "              'bagging_freq': 5, #배깅 빈도수\n",
        "              'seed':42, #랜덤 시드\n",
        "              'num_threads':8\n",
        "             }\n",
        "    #모델 Light GBM\n",
        "    model = lightgbm.train(params, \n",
        "                   train_set = lightgbm.Dataset(data = x_train, label = y_train),\n",
        "                   num_boost_round = 10000, #boosting iteraion 수. 10,000회\n",
        "                   valid_sets = lightgbm.Dataset(data = x_valid, label = y_valid), #validation 세트 -> data에 x검증, label에 y검증\n",
        "                   init_model = None, \n",
        "                   early_stopping_rounds = 100, #분석 속도 높이기. 지나친 iteration 줄이기\n",
        "                   feval = at_nmae,\n",
        "                   verbose_eval = False\n",
        "                    )\n",
        "    \n",
        "    return model"
      ],
      "execution_count": null,
      "outputs": []
    },
    {
      "cell_type": "code",
      "metadata": {
        "id": "Pri1xsVnzTsd",
        "colab": {
          "base_uri": "https://localhost:8080/",
          "height": 572
        },
        "outputId": "c82fc37c-533a-4306-a4c5-5768a81cd068"
      },
      "source": [
        "model_dict = {} #배추만 학습시켜보기\n",
        "split = 28 #전체 100 중 validation용으로 나눔\n",
        "\n",
        "# 주차별(1,2,4w) 학습\n",
        "for week_num in [1,2,4] :\n",
        "  x = temp_df[temp_df[f'{week_num}_week']>0].iloc[:,:-3] \n",
        "  y = temp_df[temp_df[f'{week_num}_week']>0][f'{week_num}_week']\n",
        "        \n",
        "  #train, test split\n",
        "  x_train = x[:-split]\n",
        "  y_train = y[:-split]\n",
        "  x_valid = x[-split:]\n",
        "  y_valid = y[-split:]\n",
        "        \n",
        "  model_dict[f'{pum}_model_{week_num}'] = model_train(x_train, y_train, x_valid, y_valid)"
      ],
      "execution_count": null,
      "outputs": [
        {
          "output_type": "error",
          "ename": "KeyError",
          "evalue": "ignored",
          "traceback": [
            "\u001b[0;31m---------------------------------------------------------------------------\u001b[0m",
            "\u001b[0;31mKeyError\u001b[0m                                  Traceback (most recent call last)",
            "\u001b[0;32m/usr/local/lib/python3.7/dist-packages/pandas/core/indexes/base.py\u001b[0m in \u001b[0;36mget_loc\u001b[0;34m(self, key, method, tolerance)\u001b[0m\n\u001b[1;32m   2897\u001b[0m             \u001b[0;32mtry\u001b[0m\u001b[0;34m:\u001b[0m\u001b[0;34m\u001b[0m\u001b[0;34m\u001b[0m\u001b[0m\n\u001b[0;32m-> 2898\u001b[0;31m                 \u001b[0;32mreturn\u001b[0m \u001b[0mself\u001b[0m\u001b[0;34m.\u001b[0m\u001b[0m_engine\u001b[0m\u001b[0;34m.\u001b[0m\u001b[0mget_loc\u001b[0m\u001b[0;34m(\u001b[0m\u001b[0mcasted_key\u001b[0m\u001b[0;34m)\u001b[0m\u001b[0;34m\u001b[0m\u001b[0;34m\u001b[0m\u001b[0m\n\u001b[0m\u001b[1;32m   2899\u001b[0m             \u001b[0;32mexcept\u001b[0m \u001b[0mKeyError\u001b[0m \u001b[0;32mas\u001b[0m \u001b[0merr\u001b[0m\u001b[0;34m:\u001b[0m\u001b[0;34m\u001b[0m\u001b[0;34m\u001b[0m\u001b[0m\n",
            "\u001b[0;32mpandas/_libs/index.pyx\u001b[0m in \u001b[0;36mpandas._libs.index.IndexEngine.get_loc\u001b[0;34m()\u001b[0m\n",
            "\u001b[0;32mpandas/_libs/index.pyx\u001b[0m in \u001b[0;36mpandas._libs.index.IndexEngine.get_loc\u001b[0;34m()\u001b[0m\n",
            "\u001b[0;32mpandas/_libs/hashtable_class_helper.pxi\u001b[0m in \u001b[0;36mpandas._libs.hashtable.PyObjectHashTable.get_item\u001b[0;34m()\u001b[0m\n",
            "\u001b[0;32mpandas/_libs/hashtable_class_helper.pxi\u001b[0m in \u001b[0;36mpandas._libs.hashtable.PyObjectHashTable.get_item\u001b[0;34m()\u001b[0m\n",
            "\u001b[0;31mKeyError\u001b[0m: '1_week'",
            "\nThe above exception was the direct cause of the following exception:\n",
            "\u001b[0;31mKeyError\u001b[0m                                  Traceback (most recent call last)",
            "\u001b[0;32m<ipython-input-25-72f46a457953>\u001b[0m in \u001b[0;36m<module>\u001b[0;34m()\u001b[0m\n\u001b[1;32m      4\u001b[0m \u001b[0;31m# 주차별(1,2,4w) 학습\u001b[0m\u001b[0;34m\u001b[0m\u001b[0;34m\u001b[0m\u001b[0;34m\u001b[0m\u001b[0m\n\u001b[1;32m      5\u001b[0m \u001b[0;32mfor\u001b[0m \u001b[0mweek_num\u001b[0m \u001b[0;32min\u001b[0m \u001b[0;34m[\u001b[0m\u001b[0;36m1\u001b[0m\u001b[0;34m,\u001b[0m\u001b[0;36m2\u001b[0m\u001b[0;34m,\u001b[0m\u001b[0;36m4\u001b[0m\u001b[0;34m]\u001b[0m \u001b[0;34m:\u001b[0m\u001b[0;34m\u001b[0m\u001b[0;34m\u001b[0m\u001b[0m\n\u001b[0;32m----> 6\u001b[0;31m   \u001b[0mx\u001b[0m \u001b[0;34m=\u001b[0m \u001b[0mtemp_df\u001b[0m\u001b[0;34m[\u001b[0m\u001b[0mtemp_df\u001b[0m\u001b[0;34m[\u001b[0m\u001b[0;34mf'{week_num}_week'\u001b[0m\u001b[0;34m]\u001b[0m\u001b[0;34m>\u001b[0m\u001b[0;36m0\u001b[0m\u001b[0;34m]\u001b[0m\u001b[0;34m.\u001b[0m\u001b[0miloc\u001b[0m\u001b[0;34m[\u001b[0m\u001b[0;34m:\u001b[0m\u001b[0;34m,\u001b[0m\u001b[0;34m:\u001b[0m\u001b[0;34m-\u001b[0m\u001b[0;36m3\u001b[0m\u001b[0;34m]\u001b[0m\u001b[0;34m\u001b[0m\u001b[0;34m\u001b[0m\u001b[0m\n\u001b[0m\u001b[1;32m      7\u001b[0m   \u001b[0my\u001b[0m \u001b[0;34m=\u001b[0m \u001b[0mtemp_df\u001b[0m\u001b[0;34m[\u001b[0m\u001b[0mtemp_df\u001b[0m\u001b[0;34m[\u001b[0m\u001b[0;34mf'{week_num}_week'\u001b[0m\u001b[0;34m]\u001b[0m\u001b[0;34m>\u001b[0m\u001b[0;36m0\u001b[0m\u001b[0;34m]\u001b[0m\u001b[0;34m[\u001b[0m\u001b[0;34mf'{week_num}_week'\u001b[0m\u001b[0;34m]\u001b[0m\u001b[0;34m\u001b[0m\u001b[0;34m\u001b[0m\u001b[0m\n\u001b[1;32m      8\u001b[0m \u001b[0;34m\u001b[0m\u001b[0m\n",
            "\u001b[0;32m/usr/local/lib/python3.7/dist-packages/pandas/core/frame.py\u001b[0m in \u001b[0;36m__getitem__\u001b[0;34m(self, key)\u001b[0m\n\u001b[1;32m   2904\u001b[0m             \u001b[0;32mif\u001b[0m \u001b[0mself\u001b[0m\u001b[0;34m.\u001b[0m\u001b[0mcolumns\u001b[0m\u001b[0;34m.\u001b[0m\u001b[0mnlevels\u001b[0m \u001b[0;34m>\u001b[0m \u001b[0;36m1\u001b[0m\u001b[0;34m:\u001b[0m\u001b[0;34m\u001b[0m\u001b[0;34m\u001b[0m\u001b[0m\n\u001b[1;32m   2905\u001b[0m                 \u001b[0;32mreturn\u001b[0m \u001b[0mself\u001b[0m\u001b[0;34m.\u001b[0m\u001b[0m_getitem_multilevel\u001b[0m\u001b[0;34m(\u001b[0m\u001b[0mkey\u001b[0m\u001b[0;34m)\u001b[0m\u001b[0;34m\u001b[0m\u001b[0;34m\u001b[0m\u001b[0m\n\u001b[0;32m-> 2906\u001b[0;31m             \u001b[0mindexer\u001b[0m \u001b[0;34m=\u001b[0m \u001b[0mself\u001b[0m\u001b[0;34m.\u001b[0m\u001b[0mcolumns\u001b[0m\u001b[0;34m.\u001b[0m\u001b[0mget_loc\u001b[0m\u001b[0;34m(\u001b[0m\u001b[0mkey\u001b[0m\u001b[0;34m)\u001b[0m\u001b[0;34m\u001b[0m\u001b[0;34m\u001b[0m\u001b[0m\n\u001b[0m\u001b[1;32m   2907\u001b[0m             \u001b[0;32mif\u001b[0m \u001b[0mis_integer\u001b[0m\u001b[0;34m(\u001b[0m\u001b[0mindexer\u001b[0m\u001b[0;34m)\u001b[0m\u001b[0;34m:\u001b[0m\u001b[0;34m\u001b[0m\u001b[0;34m\u001b[0m\u001b[0m\n\u001b[1;32m   2908\u001b[0m                 \u001b[0mindexer\u001b[0m \u001b[0;34m=\u001b[0m \u001b[0;34m[\u001b[0m\u001b[0mindexer\u001b[0m\u001b[0;34m]\u001b[0m\u001b[0;34m\u001b[0m\u001b[0;34m\u001b[0m\u001b[0m\n",
            "\u001b[0;32m/usr/local/lib/python3.7/dist-packages/pandas/core/indexes/base.py\u001b[0m in \u001b[0;36mget_loc\u001b[0;34m(self, key, method, tolerance)\u001b[0m\n\u001b[1;32m   2898\u001b[0m                 \u001b[0;32mreturn\u001b[0m \u001b[0mself\u001b[0m\u001b[0;34m.\u001b[0m\u001b[0m_engine\u001b[0m\u001b[0;34m.\u001b[0m\u001b[0mget_loc\u001b[0m\u001b[0;34m(\u001b[0m\u001b[0mcasted_key\u001b[0m\u001b[0;34m)\u001b[0m\u001b[0;34m\u001b[0m\u001b[0;34m\u001b[0m\u001b[0m\n\u001b[1;32m   2899\u001b[0m             \u001b[0;32mexcept\u001b[0m \u001b[0mKeyError\u001b[0m \u001b[0;32mas\u001b[0m \u001b[0merr\u001b[0m\u001b[0;34m:\u001b[0m\u001b[0;34m\u001b[0m\u001b[0;34m\u001b[0m\u001b[0m\n\u001b[0;32m-> 2900\u001b[0;31m                 \u001b[0;32mraise\u001b[0m \u001b[0mKeyError\u001b[0m\u001b[0;34m(\u001b[0m\u001b[0mkey\u001b[0m\u001b[0;34m)\u001b[0m \u001b[0;32mfrom\u001b[0m \u001b[0merr\u001b[0m\u001b[0;34m\u001b[0m\u001b[0;34m\u001b[0m\u001b[0m\n\u001b[0m\u001b[1;32m   2901\u001b[0m \u001b[0;34m\u001b[0m\u001b[0m\n\u001b[1;32m   2902\u001b[0m         \u001b[0;32mif\u001b[0m \u001b[0mtolerance\u001b[0m \u001b[0;32mis\u001b[0m \u001b[0;32mnot\u001b[0m \u001b[0;32mNone\u001b[0m\u001b[0;34m:\u001b[0m\u001b[0;34m\u001b[0m\u001b[0;34m\u001b[0m\u001b[0m\n",
            "\u001b[0;31mKeyError\u001b[0m: '1_week'"
          ]
        }
      ]
    },
    {
      "cell_type": "code",
      "metadata": {
        "id": "FtLj2teggnsG"
      },
      "source": [
        "submission = pd.read_csv('/content/drive/MyDrive/Capstone/Data/subsub.csv') #2021-12-03까지 예측 가능\n",
        "\n",
        "public_date_list = submission[submission['예측대상일자'].str.contains('2021')]['예측대상일자'].str.split('+').str[0].unique()\n",
        "#['2021-01-01', ...] \n",
        "\n",
        "for date in tqdm(public_date_list) : #빈 submission 파일 불러오기\n",
        "  test = pd.read_csv(f'/content/drive/MyDrive/Capstone/Data/test_files/test_{date}.csv') \n",
        "\n",
        "  # 예측기준일에 대해 전처리\n",
        "  temp_test = pd.DataFrame([{'date' : date}]) #test_files에 있는 예측기준일(date)\n",
        "  alldata = pd.concat([train, test, temp_test], sort=False).reset_index(drop=True) \n",
        "  #[train, test, temp_test연결], sort 기본값, reset_index(drop=True)는 이전 인덱스가 열로 추가되는 것 방지  \n",
        "  alldata = alldata[['date', f'{pum}_거래량(kg)', f'{pum}_가격(원/kg)']].fillna(0) #모든 데이터에서 값이 없는 부분(na) -> 0으로 채우기 \n",
        "  #alldata = alldata.iloc[-28:].reset_index(drop=True) #-28(마지막) 가져오기, drop=True는 인덱스 열 버리기\n",
        "  alldata = alldata[:-1]\n",
        "  \n",
        "  #alldata = preprocessing(alldata, pum, len_lag=28) #전처리(모든 데이터, pum, 28) *수정필요*\n",
        "  #temp_df = alldata[['date',f'{pum}_거래량(kg)', f'{pum}_가격(원/kg)']]\n",
        "  alldata = weather_feature(alldata, temp_test, weather, pum, joosan_dict, code_dict, quater_days=30, num_quaters=12) #날씨 전처리로 추가, temp_df 지움\n",
        "  #alldata = temp_df\n",
        "\n",
        "  temp_test = alldata.iloc[-1].astype(float) #iloc[-1], 마지막 행을 float 타입으로 가져오기\n",
        "          \n",
        "  # 개별 모델을 활용하여 1,2,4주 후 가격 예측\n",
        "  for week_num in [1,2,4] : #week_num: 1,2,4\n",
        "    temp_model = model_dict[f'{pum}_model_{week_num}']\n",
        "    result = np.round(temp_model.predict(temp_test), 0) #temp_test의 예측값---> train, test,temp_test 다 담아서 예측하는 거\n",
        "    condition = (submission['예측대상일자']==f'{date}+{week_num}week') #ex.[2020-09-29 + 1week]\n",
        "    idx = submission[condition].index #인덱스\n",
        "    submission.loc[idx, f'{pum}_가격(원/kg)'] = result[0] #loc은 레이블 기반이라 행.열 설정해줘야함\n",
        "    #행 idx, 열은 pum들의 가격(원/kg) 인덱스\n",
        "    #주차 별로 품목 바꾸면서 가격 가져오기\n",
        "\n",
        "preds = temp_model.predict(alldata)"
      ],
      "execution_count": null,
      "outputs": []
    },
    {
      "cell_type": "markdown",
      "metadata": {
        "id": "O8k4tdBMOK6N"
      },
      "source": [
        "# **성능**"
      ]
    },
    {
      "cell_type": "code",
      "metadata": {
        "id": "pfDHrd7a3DnS"
      },
      "source": [
        "from sklearn.metrics import r2_score"
      ],
      "execution_count": null,
      "outputs": []
    },
    {
      "cell_type": "code",
      "metadata": {
        "id": "nGCLvMhHQtfY"
      },
      "source": [
        "preds.shape"
      ],
      "execution_count": null,
      "outputs": []
    },
    {
      "cell_type": "code",
      "metadata": {
        "id": "5F9A_nyBRK1W"
      },
      "source": [
        "alldata = pd.concat([train, test, temp_test], sort=False).reset_index(drop=True) "
      ],
      "execution_count": null,
      "outputs": []
    },
    {
      "cell_type": "code",
      "metadata": {
        "id": "omgLWuEy_B6Q"
      },
      "source": [
        "real = train['양파_거래량(kg)'].to_numpy()"
      ],
      "execution_count": null,
      "outputs": []
    },
    {
      "cell_type": "code",
      "metadata": {
        "id": "wlwH6dhq5qCX"
      },
      "source": [
        "acc = r2_score(real, preds)"
      ],
      "execution_count": null,
      "outputs": []
    },
    {
      "cell_type": "code",
      "metadata": {
        "colab": {
          "base_uri": "https://localhost:8080/"
        },
        "id": "I6wU4VDHH_yi",
        "outputId": "aefe1181-2931-4ac9-a208-9f76d63527d3"
      },
      "source": [
        "acc"
      ],
      "execution_count": null,
      "outputs": [
        {
          "output_type": "execute_result",
          "data": {
            "text/plain": [
              "-3.034475205202682"
            ]
          },
          "metadata": {},
          "execution_count": 54
        }
      ]
    }
  ]
}